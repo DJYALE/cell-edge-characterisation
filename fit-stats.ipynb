{
 "cells": [
  {
   "cell_type": "code",
   "execution_count": 1,
   "metadata": {},
   "outputs": [],
   "source": [
    "%matplotlib inline\n",
    "import matplotlib.pyplot as plt\n",
    "import numpy as np\n",
    "import pandas as pd"
   ]
  },
  {
   "cell_type": "code",
   "execution_count": 32,
   "metadata": {},
   "outputs": [
    {
     "data": {
      "text/html": [
       "<div>\n",
       "<style scoped>\n",
       "    .dataframe tbody tr th:only-of-type {\n",
       "        vertical-align: middle;\n",
       "    }\n",
       "\n",
       "    .dataframe tbody tr th {\n",
       "        vertical-align: top;\n",
       "    }\n",
       "\n",
       "    .dataframe thead th {\n",
       "        text-align: right;\n",
       "    }\n",
       "</style>\n",
       "<table border=\"1\" class=\"dataframe\">\n",
       "  <thead>\n",
       "    <tr style=\"text-align: right;\">\n",
       "      <th></th>\n",
       "      <th>Cell</th>\n",
       "      <th>profile</th>\n",
       "      <th>xoff</th>\n",
       "      <th>Icell</th>\n",
       "      <th>Imax</th>\n",
       "      <th>Iback</th>\n",
       "      <th>rhc</th>\n",
       "      <th>rhb</th>\n",
       "    </tr>\n",
       "  </thead>\n",
       "  <tbody>\n",
       "    <tr>\n",
       "      <th>0</th>\n",
       "      <td>1</td>\n",
       "      <td>0</td>\n",
       "      <td>-0.785</td>\n",
       "      <td>103.478</td>\n",
       "      <td>150.959</td>\n",
       "      <td>10.451</td>\n",
       "      <td>0.442</td>\n",
       "      <td>2.710</td>\n",
       "    </tr>\n",
       "    <tr>\n",
       "      <th>1</th>\n",
       "      <td>1</td>\n",
       "      <td>1</td>\n",
       "      <td>1.712</td>\n",
       "      <td>102.132</td>\n",
       "      <td>142.757</td>\n",
       "      <td>12.977</td>\n",
       "      <td>4.961</td>\n",
       "      <td>0.741</td>\n",
       "    </tr>\n",
       "    <tr>\n",
       "      <th>2</th>\n",
       "      <td>1</td>\n",
       "      <td>2</td>\n",
       "      <td>-0.466</td>\n",
       "      <td>108.457</td>\n",
       "      <td>243.169</td>\n",
       "      <td>19.273</td>\n",
       "      <td>1.021</td>\n",
       "      <td>1.197</td>\n",
       "    </tr>\n",
       "    <tr>\n",
       "      <th>3</th>\n",
       "      <td>1</td>\n",
       "      <td>3</td>\n",
       "      <td>0.343</td>\n",
       "      <td>109.399</td>\n",
       "      <td>208.672</td>\n",
       "      <td>17.508</td>\n",
       "      <td>2.976</td>\n",
       "      <td>1.471</td>\n",
       "    </tr>\n",
       "    <tr>\n",
       "      <th>4</th>\n",
       "      <td>1</td>\n",
       "      <td>4</td>\n",
       "      <td>0.526</td>\n",
       "      <td>107.948</td>\n",
       "      <td>242.135</td>\n",
       "      <td>20.455</td>\n",
       "      <td>2.240</td>\n",
       "      <td>1.519</td>\n",
       "    </tr>\n",
       "  </tbody>\n",
       "</table>\n",
       "</div>"
      ],
      "text/plain": [
       "   Cell  profile   xoff    Icell     Imax   Iback    rhc    rhb\n",
       "0     1        0 -0.785  103.478  150.959  10.451  0.442  2.710\n",
       "1     1        1  1.712  102.132  142.757  12.977  4.961  0.741\n",
       "2     1        2 -0.466  108.457  243.169  19.273  1.021  1.197\n",
       "3     1        3  0.343  109.399  208.672  17.508  2.976  1.471\n",
       "4     1        4  0.526  107.948  242.135  20.455  2.240  1.519"
      ]
     },
     "execution_count": 32,
     "metadata": {},
     "output_type": "execute_result"
    }
   ],
   "source": [
    "data1 = pd.read_csv(\"Results-Ch1.csv\")\n",
    "data2 = pd.read_csv(\"Results-Ch2.csv\")\n",
    "data.head()"
   ]
  },
  {
   "cell_type": "code",
   "execution_count": 42,
   "metadata": {},
   "outputs": [
    {
     "data": {
      "image/png": "[encoded data removed]",
      "text/plain": [
       "<Figure size 864x720 with 6 Axes>"
      ]
     },
     "metadata": {},
     "output_type": "display_data"
    }
   ],
   "source": [
    "fig,axs = plt.subplots(2,3,figsize=(12,10),sharex=True,sharey=True)\n",
    "bins=np.linspace(0,6,31)\n",
    "for i in range(3):\n",
    "    df = data1[data1['Cell']==i+1]\n",
    "    axs[0,i].hist((df['Imax']-df['Iback'])/(df['Icell']-df['Iback']),bins=np.linspace(1,4,11))\n",
    "    \n",
    "    df = data2[data2['Cell']==i+1]\n",
    "    axs[1,i].hist((df['Imax']-df['Iback'])/(df['Icell']-df['Iback']),bins=np.linspace(1,4,11))"
   ]
  },
  {
   "cell_type": "code",
   "execution_count": 48,
   "metadata": {},
   "outputs": [
    {
     "data": {
      "text/plain": [
       "152"
      ]
     },
     "execution_count": 48,
     "metadata": {},
     "output_type": "execute_result"
    }
   ],
   "source": [
    "len(data2)"
   ]
  },
  {
   "cell_type": "code",
   "execution_count": null,
   "metadata": {},
   "outputs": [],
   "source": []
  }
 ],
 "metadata": {
  "anaconda-cloud": {},
  "kernelspec": {
   "display_name": "Python [default]",
   "language": "python",
   "name": "python3"
  },
  "language_info": {
   "codemirror_mode": {
    "name": "ipython",
    "version": 3
   },
   "file_extension": ".py",
   "mimetype": "text/x-python",
   "name": "python",
   "nbconvert_exporter": "python",
   "pygments_lexer": "ipython3",
   "version": "3.5.2"
  }
 },
 "nbformat": 4,
 "nbformat_minor": 2
}
